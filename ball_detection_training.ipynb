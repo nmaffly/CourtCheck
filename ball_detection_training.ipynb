{
 "cells": [
  {
   "cell_type": "code",
   "execution_count": 1,
   "metadata": {},
   "outputs": [
    {
     "name": "stdout",
     "output_type": "stream",
     "text": [
      "loading Roboflow workspace...\n",
      "loading Roboflow project...\n"
     ]
    },
    {
     "name": "stderr",
     "output_type": "stream",
     "text": [
      "Downloading Dataset Version Zip in CourtCheck-1 to yolov5pytorch:: 100%|██████████| 16313/16313 [00:00<00:00, 19936.21it/s]"
     ]
    },
    {
     "name": "stdout",
     "output_type": "stream",
     "text": [
      "\n"
     ]
    },
    {
     "name": "stderr",
     "output_type": "stream",
     "text": [
      "\n",
      "Extracting Dataset Version Zip to CourtCheck-1 in yolov5pytorch:: 100%|██████████| 410/410 [00:00<00:00, 6332.24it/s]\n"
     ]
    }
   ],
   "source": [
    "from roboflow import Roboflow\n",
    "rf = Roboflow(api_key=\"U0LE6oDDQNNE39m7Ag7x\")\n",
    "project = rf.workspace(\"court-check\").project(\"courtcheck\")\n",
    "version = project.version(1)\n",
    "dataset = version.download(\"yolov5\")"
   ]
  },
  {
   "cell_type": "code",
   "execution_count": 3,
   "metadata": {},
   "outputs": [],
   "source": [
    "import shutil "
   ]
  },
  {
   "cell_type": "code",
   "execution_count": 4,
   "metadata": {},
   "outputs": [
    {
     "data": {
      "text/plain": [
       "'CourtCheck-1/CourtCheck-1/valid'"
      ]
     },
     "execution_count": 4,
     "metadata": {},
     "output_type": "execute_result"
    }
   ],
   "source": [
    "shutil.move(\"CourtCheck-1/test\", \"CourtCheck-1/CourtCheck-1/test\")\n",
    "shutil.move(\"CourtCheck-1/train\", \"CourtCheck-1/CourtCheck-1/train\")\n",
    "shutil.move(\"CourtCheck-1/valid\", \"CourtCheck-1/CourtCheck-1/valid\")"
   ]
  },
  {
   "cell_type": "code",
   "execution_count": 5,
   "metadata": {},
   "outputs": [
    {
     "name": "stdout",
     "output_type": "stream",
     "text": [
      "Traceback (most recent call last):\n",
      "  File \"/Users/ncmaffly/Coding/tennis_ASA/venv/bin/yolo\", line 8, in <module>\n",
      "    sys.exit(entrypoint())\n",
      "             ^^^^^^^^^^^^\n",
      "  File \"/Users/ncmaffly/Coding/tennis_ASA/venv/lib/python3.11/site-packages/ultralytics/cfg/__init__.py\", line 556, in entrypoint\n",
      "    model = YOLO(model, task=task)\n",
      "            ^^^^^^^^^^^^^^^^^^^^^^\n",
      "  File \"/Users/ncmaffly/Coding/tennis_ASA/venv/lib/python3.11/site-packages/ultralytics/models/yolo/model.py\", line 23, in __init__\n",
      "    super().__init__(model=model, task=task, verbose=verbose)\n",
      "  File \"/Users/ncmaffly/Coding/tennis_ASA/venv/lib/python3.11/site-packages/ultralytics/engine/model.py\", line 151, in __init__\n",
      "    self._load(model, task=task)\n",
      "  File \"/Users/ncmaffly/Coding/tennis_ASA/venv/lib/python3.11/site-packages/ultralytics/engine/model.py\", line 240, in _load\n",
      "    self.model, self.ckpt = attempt_load_one_weight(weights)\n",
      "                            ^^^^^^^^^^^^^^^^^^^^^^^^^^^^^^^^\n",
      "  File \"/Users/ncmaffly/Coding/tennis_ASA/venv/lib/python3.11/site-packages/ultralytics/nn/tasks.py\", line 806, in attempt_load_one_weight\n",
      "    ckpt, weight = torch_safe_load(weight)  # load ckpt\n",
      "                   ^^^^^^^^^^^^^^^^^^^^^^^\n",
      "  File \"/Users/ncmaffly/Coding/tennis_ASA/venv/lib/python3.11/site-packages/ultralytics/nn/tasks.py\", line 732, in torch_safe_load\n",
      "    ckpt = torch.load(file, map_location=\"cpu\")\n",
      "           ^^^^^^^^^^^^^^^^^^^^^^^^^^^^^^^^^^^^\n",
      "  File \"/Users/ncmaffly/Coding/tennis_ASA/venv/lib/python3.11/site-packages/torch/serialization.py\", line 997, in load\n",
      "    with _open_file_like(f, 'rb') as opened_file:\n",
      "         ^^^^^^^^^^^^^^^^^^^^^^^^\n",
      "  File \"/Users/ncmaffly/Coding/tennis_ASA/venv/lib/python3.11/site-packages/torch/serialization.py\", line 444, in _open_file_like\n",
      "    return _open_file(name_or_buffer, mode)\n",
      "           ^^^^^^^^^^^^^^^^^^^^^^^^^^^^^^^^\n",
      "  File \"/Users/ncmaffly/Coding/tennis_ASA/venv/lib/python3.11/site-packages/torch/serialization.py\", line 425, in __init__\n",
      "    super().__init__(open(name, mode))\n",
      "                     ^^^^^^^^^^^^^^^^\n",
      "FileNotFoundError: [Errno 2] No such file or directory: 'yolov516u.pt'\n"
     ]
    }
   ],
   "source": [
    "!yolo task=detect mode=train model=yolov516u.pt data={dataset.location}/data.yaml epochs=100 imgsz=640 "
   ]
  }
 ],
 "metadata": {
  "kernelspec": {
   "display_name": "venv",
   "language": "python",
   "name": "python3"
  },
  "language_info": {
   "codemirror_mode": {
    "name": "ipython",
    "version": 3
   },
   "file_extension": ".py",
   "mimetype": "text/x-python",
   "name": "python",
   "nbconvert_exporter": "python",
   "pygments_lexer": "ipython3",
   "version": "3.11.6"
  }
 },
 "nbformat": 4,
 "nbformat_minor": 2
}
